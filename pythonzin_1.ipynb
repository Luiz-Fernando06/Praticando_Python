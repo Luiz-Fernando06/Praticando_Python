{
  "nbformat": 4,
  "nbformat_minor": 0,
  "metadata": {
    "colab": {
      "provenance": [],
      "authorship_tag": "ABX9TyPN7qmbzuWL326yD9X3DInS",
      "include_colab_link": true
    },
    "kernelspec": {
      "name": "python3",
      "display_name": "Python 3"
    },
    "language_info": {
      "name": "python"
    }
  },
  "cells": [
    {
      "cell_type": "markdown",
      "metadata": {
        "id": "view-in-github",
        "colab_type": "text"
      },
      "source": [
        "<a href=\"https://colab.research.google.com/github/Luiz-Fernando06/Praticando_Python/blob/main/pythonzin_1.ipynb\" target=\"_parent\"><img src=\"https://colab.research.google.com/assets/colab-badge.svg\" alt=\"Open In Colab\"/></a>"
      ]
    },
    {
      "cell_type": "markdown",
      "source": [
        "# ***COMEÇANDO A AULA:***"
      ],
      "metadata": {
        "id": "jR2N9bum9OO4"
      }
    },
    {
      "cell_type": "markdown",
      "source": [
        "# **SOMANDO VARIAVEIS**"
      ],
      "metadata": {
        "id": "SY_IPOs6hQ5Y"
      }
    },
    {
      "cell_type": "code",
      "execution_count": null,
      "metadata": {
        "id": "icx-2VrbdN9d"
      },
      "outputs": [],
      "source": [
        "#Somando\n",
        "a = int(input(\"Digite um numero: \"))\n",
        "b = int(input(\"Digite outro numero: \"))\n",
        "soma = a + b\n",
        "print('A soma entre {} e {} é igual a {}!'.format(a, b, soma))"
      ]
    },
    {
      "cell_type": "markdown",
      "source": [
        "# **TIPOS PRIMITIVIOS DE DADOS**"
      ],
      "metadata": {
        "id": "pmbjgICkhYXu"
      }
    },
    {
      "cell_type": "code",
      "source": [
        "#Tipos primitivos\n",
        "entrada = input(\"Digite algo: \")\n",
        "print('O tipo primitivo desse valor é', type(entrada))\n",
        "print('Só tem espaços?', entrada.isspace())\n",
        "print('É um número?', entrada.isnumeric())\n",
        "print('É alfabetico?', entrada.isalpha())\n",
        "print('É alfanumerico?', entrada.isalnum())\n",
        "print('Está em maiuscula?', entrada.isupper())\n",
        "print('Está em minuscula?', entrada.islower())\n",
        "print('Está capitalizada?', entrada.istitle())"
      ],
      "metadata": {
        "id": "MHD9reLvg1zA"
      },
      "execution_count": null,
      "outputs": []
    },
    {
      "cell_type": "markdown",
      "source": [
        "# **OPERADORES ARITMETRICOS**"
      ],
      "metadata": {
        "id": "j8FncAV3hhnU"
      }
    },
    {
      "cell_type": "code",
      "source": [
        "#Operadores Aritmétricos\n",
        "n1 = int(input(\"Digite um numero: \"))\n",
        "n2 = int(input(\"Digite outro numero: \"))\n",
        "s = n1 + n2\n",
        "su = n1 - n2\n",
        "m = n1 * n2\n",
        "div = n1 / n2\n",
        "p = n1**n2\n",
        "div_int = n1 // n2\n",
        "r = n1 % n2\n",
        "print('soma: {}'.format(s))\n",
        "print('subtração: {}'.format(su))\n",
        "print('multiplicação: {}'.format(m))\n",
        "print('divisão: {:.2f}'.format(div))\n",
        "print('potência: {}'.format(p))\n",
        "print('divisão inteira: {}'.format(div_int))\n",
        "print('resto da divisão: {}'.format(r))\n"
      ],
      "metadata": {
        "id": "tEsQmZezg4hF",
        "colab": {
          "base_uri": "https://localhost:8080/"
        },
        "outputId": "437dc383-cec1-449f-b13b-7ae9732b2f8a"
      },
      "execution_count": null,
      "outputs": [
        {
          "output_type": "stream",
          "name": "stdout",
          "text": [
            "Digite um numero: 3\n",
            "Digite outro numero: 12\n",
            "soma: 15\n",
            "subtração: -9\n",
            "multiplicação: 36\n",
            "divisão: 0.25\n",
            "potência: 531441\n",
            "divisão inteira: 0\n",
            "resto da divisão: 3\n"
          ]
        }
      ]
    },
    {
      "cell_type": "markdown",
      "source": [
        "# **FORMATAÇÃO**"
      ],
      "metadata": {
        "id": "TInGGjFFho6E"
      }
    },
    {
      "cell_type": "code",
      "source": [
        "#formatação\n",
        "n1 = int(input(\"Digite um numero: \"))\n",
        "n2 = int(input(\"Digite outro numero: \"))\n",
        "div = n1 / n2\n",
        "print(\"A divisão entre {} e {} é {:.1f}\".format(n1, n2, div))"
      ],
      "metadata": {
        "id": "MJxny1u6g_Iv"
      },
      "execution_count": null,
      "outputs": []
    },
    {
      "cell_type": "markdown",
      "source": [
        "# ORDEM DE PRECENDENCIA"
      ],
      "metadata": {
        "id": "BOrMkiuMh68O"
      }
    },
    {
      "cell_type": "code",
      "source": [
        "#Ordem de precendencia\n",
        "#1.()\n",
        "#2.**\n",
        "#3.*, /, //, %\n",
        "#4.+, -\n",
        "\n",
        "print(\"5+3*2:\", 5+3*2)\n",
        "print(\"3*5+4**2:\", 3*5+4**2)\n",
        "print(\"3*(5+4)**2:\", 3*(5+4)**2)\n",
        "\n",
        "\n"
      ],
      "metadata": {
        "id": "mTcz_gt7hDEF"
      },
      "execution_count": null,
      "outputs": []
    },
    {
      "cell_type": "markdown",
      "source": [
        "# **FUNÇÃO INTERNA DE POTENCIA E RAIZ QUADRADA**"
      ],
      "metadata": {
        "id": "Gffd2eTiinwm"
      }
    },
    {
      "cell_type": "code",
      "source": [
        "#Função interna de potencia\n",
        "a = pow(2,3)\n",
        "print(\"Potencia: {}\".format(a))\n",
        "\n",
        "#Vendo raiz quadrada, cubica, etc... de outra forma\n",
        "print('Raiz quadrada {}:'.format(25**(1/2)))\n",
        "print('Raiz cubica {}:'.format(27**(1/3)))\n",
        "print('Raiz quarta {}:'.format(16**(1/4)))"
      ],
      "metadata": {
        "id": "1u5u9YZ1hFdo",
        "colab": {
          "base_uri": "https://localhost:8080/"
        },
        "outputId": "df9916c3-b5ec-425d-da46-cffacdbf2dda"
      },
      "execution_count": null,
      "outputs": [
        {
          "output_type": "stream",
          "name": "stdout",
          "text": [
            "Potencia: 8\n",
            "Raiz quadrada 5.0:\n",
            "Raiz cubica 3.0:\n",
            "Raiz quarta 2.0:\n"
          ]
        }
      ]
    },
    {
      "cell_type": "markdown",
      "source": [
        "# **CALCULANDO E MANIPULANDO STRING**"
      ],
      "metadata": {
        "id": "rI81pLJQixRO"
      }
    },
    {
      "cell_type": "code",
      "source": [
        "#Calculando string\n",
        "print('Ola*5: ','Olá'*5)\n",
        "print('='*23)\n",
        "print('Olá ' + 'Mundo')\n",
        "\n",
        "#Manipulando string\n",
        "nome = input(\"Digite seu nome: \")\n",
        "print('Prazer em te conhecer: {:>20}!'.format(nome))\n",
        "print('Prazer em te conhecer: {:<20}!'.format(nome))\n",
        "print('Prazer em te conhecer {:^20}!'.format(nome))\n",
        "print('Prazer em te conhecer {:=^20}!'.format(nome))\n",
        "print('Prazer em te conhecer {:>>20}!'.format(nome))\n",
        "print('Prazer em te conhecer {:~<20}!'.format(nome))"
      ],
      "metadata": {
        "id": "bfngAbDRhIQ_",
        "colab": {
          "base_uri": "https://localhost:8080/"
        },
        "outputId": "71d0de95-2da2-48c5-e1b8-ec5d669ec447"
      },
      "execution_count": null,
      "outputs": [
        {
          "output_type": "stream",
          "name": "stdout",
          "text": [
            "Ola*5:  OláOláOláOláOlá\n",
            "=======================\n",
            "Olá Mundo\n",
            "Digite seu nome: luiz\n",
            "Prazer em te conhecer:                 luiz!\n",
            "Prazer em te conhecer: luiz                !\n",
            "Prazer em te conhecer         luiz        !\n",
            "Prazer em te conhecer ========luiz========!\n",
            "Prazer em te conhecer >>>>>>>>>>>>>>>>luiz!\n",
            "Prazer em te conhecer luiz~~~~~~~~~~~~~~~~!\n"
          ]
        }
      ]
    },
    {
      "cell_type": "markdown",
      "source": [
        "# **\\N e END**"
      ],
      "metadata": {
        "id": "5c6dZxE6i7Wm"
      }
    },
    {
      "cell_type": "code",
      "source": [
        "#Tirando a quebra de linha entre prints\n",
        "print('Ola', end=' ')\n",
        "print('Mundo')\n",
        "print('\\n')\n",
        "print('Ola', end='>>>')\n",
        "print('Mundo')\n",
        "print('\\n')\n",
        "\n",
        "#Quebrando linha\n",
        "print('Ola \\n mundo')\n",
        "print('\\n')\n",
        "print('Ola \\nmundo')"
      ],
      "metadata": {
        "id": "n_fhWtjRhLxd",
        "colab": {
          "base_uri": "https://localhost:8080/"
        },
        "outputId": "ad513916-3fb5-40a8-c635-26f5a3772fcf"
      },
      "execution_count": null,
      "outputs": [
        {
          "output_type": "stream",
          "name": "stdout",
          "text": [
            "Ola Mundo\n",
            "\n",
            "\n",
            "Ola>>>Mundo\n",
            "\n",
            "\n",
            "Ola \n",
            " mundo\n",
            "\n",
            "\n",
            "Ola \n",
            "mundo\n"
          ]
        }
      ]
    },
    {
      "cell_type": "markdown",
      "source": [
        "# ***EXECICIOS:***"
      ],
      "metadata": {
        "id": "L-KkgOaN9Z_3"
      }
    },
    {
      "cell_type": "markdown",
      "source": [
        "# ***EX.1 - ANTERCESSOR E SUCESSOR***"
      ],
      "metadata": {
        "id": "6Tjh--IqjBrW"
      }
    },
    {
      "cell_type": "code",
      "source": [
        "#Antecessor e sucessor\n",
        "a = int(input(\"Digite um numero: \"))\n",
        "x = a + 1\n",
        "y = a - 1\n",
        "print('O antecessor de {} é {} e o sucessor é {}'.format(a, y, x))\n",
        "\n",
        "#Comentarios:\n",
        "\n",
        "#se eu não for utilizar as variaveis x e y é so fazer isso:\n",
        "print('O antecessor de {} é {} e o sucessor é {}'.format(a, (a-1), (a+1)))"
      ],
      "metadata": {
        "id": "ccTOv9aehMt2",
        "colab": {
          "base_uri": "https://localhost:8080/"
        },
        "outputId": "de951834-9d16-4233-827a-fa5d890c0a78"
      },
      "execution_count": null,
      "outputs": [
        {
          "output_type": "stream",
          "name": "stdout",
          "text": [
            "Digite um numero: 7\n",
            "O antecessor de 7 é 6 e o sucessor é 8\n",
            "O antecessor de 7 é 6 e o sucessor é 8\n"
          ]
        }
      ]
    },
    {
      "cell_type": "markdown",
      "source": [
        "# ***EX.2 - CRIE UM ALGORITMO QUE LEIA UM NUMERO E MOSTRE O SEU DOBRO, TRIPLO E RAIZ QUADRADA***"
      ],
      "metadata": {
        "id": "WNmnnRO1jKZW"
      }
    },
    {
      "cell_type": "code",
      "source": [
        "#Dobro, Triplo e Raiz Quadrada\n",
        "x = int(input(\"digite um numero: \"))\n",
        "dobro = x * 2\n",
        "triplo = x * 3\n",
        "raiz_quadrada = x**(1/2)\n",
        "print('O dobro de {} é {} e o seu triplo é {}. Já a sua raiz quadrada é {:.2f}'.format(x, dobro, triplo, raiz_quadrada))\n",
        "\n",
        "#Comentarios:\n",
        "\n",
        "#Caso as variaveis não sejam necessarias, faça isso:\n",
        "print(\"\\nO dobro de {} é {} e o seu triplo é {}. \\nJá a sua raiz quadrada é {:.2f}\".format(x, (x*2), (x*3), (x**(1/2))))\n",
        "\n",
        "#A raiz quadrada tambem pode ser calculada com a função da potencia:\n",
        "print(\"Raiz quadrada é {:.2f}\".format(pow(x, (1/2))))"
      ],
      "metadata": {
        "id": "WsXdCgIJhO8d",
        "colab": {
          "base_uri": "https://localhost:8080/"
        },
        "outputId": "980039cd-f095-4fb4-e5ab-4bbe96c67c51"
      },
      "execution_count": null,
      "outputs": [
        {
          "output_type": "stream",
          "name": "stdout",
          "text": [
            "digite um numero: 81\n",
            "O dobro de 81 é 162 e o seu triplo é 243. Já a sua raiz quadrada é 9.00\n",
            "\n",
            "O dobro de 81 é 162 e o seu triplo é 243. \n",
            "Já a sua raiz quadrada é 9.00\n",
            "Raiz quadrada é 9.00\n"
          ]
        }
      ]
    },
    {
      "cell_type": "markdown",
      "source": [
        "# ***EX.3 - DESENVOLVA UM PROGRAMA QUE LEIA AS DUAS NOTAS DE UM ALUNO, CALCULE E MOSTRE A SUA MEDIA***"
      ],
      "metadata": {
        "id": "NbiB2LHilrqh"
      }
    },
    {
      "cell_type": "code",
      "source": [
        "nota1 = float(input('digite sua nota: '))\n",
        "nota2 = float(input('digite sua segunda nota: '))\n",
        "media = (nota1 + nota2)/2\n",
        "print('Sua média foi: {:.1f}'.format(media))"
      ],
      "metadata": {
        "id": "jKZwWGA4lbAp",
        "colab": {
          "base_uri": "https://localhost:8080/"
        },
        "outputId": "b026d325-3b3a-4f6a-ad62-893a553f0fca"
      },
      "execution_count": null,
      "outputs": [
        {
          "output_type": "stream",
          "name": "stdout",
          "text": [
            "digite sua nota: 5.5\n",
            "digite sua segunda nota:2\n",
            "Sua média foi: 3.8\n"
          ]
        }
      ]
    },
    {
      "cell_type": "markdown",
      "source": [
        "# ***EX.4 - ESCREVA UM PROGRAMA QUE LEIA UM VALOR EM METROS E O EXIBA CONVERTIDO EM CENTIMETROS E MILIMETROS***"
      ],
      "metadata": {
        "id": "FcG5wBPRnRRA"
      }
    },
    {
      "cell_type": "code",
      "source": [
        "#metros para centimetros e milimetros\n",
        "metros = float(input('digite um valor em metros: '))\n",
        "centimetros = metros * 100\n",
        "milimetros = metros * 1000\n",
        "print('O valor em metros convertido para centimetros é {:.0f}cm e convertido para milimetro é {:.0f}mm'.format(centimetros, milimetros))\n",
        "\n",
        "#Complementar:\n",
        "print(\"\\n{:.0f}dm, {}dam, {}hm, {}km\".format((metros*10), (metros/10), (metros/100), (metros/1000)))"
      ],
      "metadata": {
        "id": "5uFhqy7pnl1X",
        "colab": {
          "base_uri": "https://localhost:8080/"
        },
        "outputId": "be526ffd-fda8-4f74-c1d7-b7a397fcd627"
      },
      "execution_count": null,
      "outputs": [
        {
          "output_type": "stream",
          "name": "stdout",
          "text": [
            "digite um valor em metros: 25\n",
            "O valor em metros convertido para centimetros é 2500cm e convertido para milimetro é 25000mm\n",
            "\n",
            "250dm, 2.5dam, 0.25hm, 0.025km\n"
          ]
        }
      ]
    },
    {
      "cell_type": "markdown",
      "source": [
        "# ***EX.5 - FAÇA UM PROGRAMA QUE LEIA  UM NUMERO INTEIRO QUALQUER E MOSTRE NA TELA A SUA TABUADA***"
      ],
      "metadata": {
        "id": "8QarsfO5pHPp"
      }
    },
    {
      "cell_type": "code",
      "source": [
        "n1 = int(input('\\nDigite um numero para ver sua tabuada: '))\n",
        "\n",
        "print('\\n')\n",
        "\n",
        "#Primeira forma de se fazer (Mais chato e lento)\n",
        "print('Primeira forma de se fazer (Mais chato e lento):')\n",
        "print('{} x {:2} = {}'.format(n1, 1, n1*1))\n",
        "print('{} x {:2} = {}'.format(n1, 2, n1*2))\n",
        "print('{} x {:2} = {}'.format(n1, 3, n1*3))\n",
        "print('{} x {:2} = {}'.format(n1, 4, n1*4))\n",
        "print('{} x {:2} = {}'.format(n1, 5, n1*5))\n",
        "print('{} x {:2} = {}'.format(n1, 6, n1*6))\n",
        "print('{} x {:2} = {}'.format(n1, 7, n1*7))\n",
        "print('{} x {:2} = {}'.format(n1, 8, n1*8))\n",
        "print('{} x {:2} = {}'.format(n1, 9, n1*9))\n",
        "print('{} x {} = {}'.format(n1, 10, n1*10))\n",
        "\n",
        "print('\\n')\n",
        "\n",
        "#Segundo forma de se fazer (Mais rapido, so que exige mais conhecimento)\n",
        "print('Segunda forma de se fazer (Mais rapido, so que exige mais conhecimento):')\n",
        "tabuada = 1\n",
        "print(\"-\"*12)\n",
        "while tabuada <= 10:\n",
        "  print('{} x {:2} = {}'.format(n1, tabuada, n1*tabuada))\n",
        "  tabuada += 1\n",
        "print(\"-\"*12)\n",
        "#Obs: O {:2} serve para deixar todas os numeros com 2 digitos para ficar todos alinhados com o resultado do 10"
      ],
      "metadata": {
        "colab": {
          "base_uri": "https://localhost:8080/"
        },
        "id": "u4tR9JpvpDER",
        "outputId": "9c31b94f-90fc-4417-a6bf-e7ad21c9a264"
      },
      "execution_count": null,
      "outputs": [
        {
          "output_type": "stream",
          "name": "stdout",
          "text": [
            "\n",
            "Digite um numero para ver sua tabuada: 3\n",
            "\n",
            "\n",
            "Primeira forma de se fazer (Mais chato e lento):\n",
            "3 x  1 = 3\n",
            "3 x  2 = 6\n",
            "3 x  3 = 9\n",
            "3 x  4 = 12\n",
            "3 x  5 = 15\n",
            "3 x  6 = 18\n",
            "3 x  7 = 21\n",
            "3 x  8 = 24\n",
            "3 x  9 = 27\n",
            "3 x 10 = 30\n",
            "\n",
            "\n",
            "Segunda forma de se fazer (Mais rapido, so que exige mais conhecimento):\n",
            "------------\n",
            "3 x  1 = 3\n",
            "3 x  2 = 6\n",
            "3 x  3 = 9\n",
            "3 x  4 = 12\n",
            "3 x  5 = 15\n",
            "3 x  6 = 18\n",
            "3 x  7 = 21\n",
            "3 x  8 = 24\n",
            "3 x  9 = 27\n",
            "3 x 10 = 30\n",
            "------------\n"
          ]
        }
      ]
    },
    {
      "cell_type": "markdown",
      "source": [
        "# ***EX.6 - CRIE UM PROGRAMA QUE LEIA QUANTO DINHEIRO UMA PESSOA TEM NA CARTEIRA E MOSTRE QUANTOS DÓLARES ELA PODE COMPRAR***\n",
        "# ***OBS: CONSIDERE 1,00US$ = 3.27 REAIS***"
      ],
      "metadata": {
        "id": "dN8nqp-6Jwuy"
      }
    },
    {
      "cell_type": "code",
      "source": [
        "#Real para Dolar\n",
        "carteira = float(input(\"Quanto de dinheiro se tem na carteira? R$\"))\n",
        "dolar = carteira / 5.66 #Dolar atualmente em 2025\n",
        "print('Com R${:.2f} você pode comprar US${:.2f}'.format(carteira, dolar))\n",
        "\n",
        "#complementares:\n",
        "\n",
        "#Dolar para Real\n",
        "print(\"-\"*45)\n",
        "print(\"Com U${:.2f} você pode comprar R${:.2f}\".format(carteira, (carteira * 5.66)))\n",
        "print(\"-\"*45)\n",
        "\n",
        "#Real para Euro\n",
        "print('Com R${:.2f} você pode comprar E${:.2f}'.format(carteira, (carteira / 6.33)))\n"
      ],
      "metadata": {
        "id": "6rvDtFCOtBGN",
        "colab": {
          "base_uri": "https://localhost:8080/"
        },
        "outputId": "a5f3eca9-4065-43ca-c31e-d74616314d1e"
      },
      "execution_count": null,
      "outputs": [
        {
          "output_type": "stream",
          "name": "stdout",
          "text": [
            "Quanto de dinheiro se tem na carteira? R$1200\n",
            "Com R$1200.00 você pode comprar US$212.01\n",
            "---------------------------------------------\n",
            "Com U$1200.00 você pode comprar R$6792.00\n",
            "---------------------------------------------\n",
            "Com R$1200.00 você pode comprar E$189.57\n"
          ]
        }
      ]
    },
    {
      "cell_type": "markdown",
      "source": [
        "# ***EX.7 - FAÇA UM PROGRAMA QUE LEIA A LARGURA E A ALTURA DE UMA PAREDE EM METROS, CALCULE A SUA ÁREA E A QUANTIDADE DE TINTA NECESSARIA PARA PINTA-LA, SABENDO QUE CADA LITRO DE TINTA PINTA UMA ÁREA DE 2M^2***"
      ],
      "metadata": {
        "id": "OJLAtVftMaz4"
      }
    },
    {
      "cell_type": "code",
      "source": [
        "#area e quantidade de tinta\n",
        "largura = float(input('Digite a largura da parede: '))\n",
        "altura = float(input('Digite a altura da parede: '))\n",
        "area = largura * altura\n",
        "quantidade_tinta = area / 2\n",
        "print(\"A largura da parede foi {}m, e a sua altura foi de {}m, contudo sua area\".format(largura, altura), end=\" \")\n",
        "print(\"foi de {}m^2, e a quantidade de tinta usada foi de {:.1f} litros\".format(area, quantidade_tinta))"
      ],
      "metadata": {
        "colab": {
          "base_uri": "https://localhost:8080/"
        },
        "id": "WvD5MpjJMaLV",
        "outputId": "b103c152-0a2e-4e76-a20b-a32c4186195f"
      },
      "execution_count": null,
      "outputs": [
        {
          "output_type": "stream",
          "name": "stdout",
          "text": [
            "Digite a largura da parede: 5\n",
            "Digite a altura da parede: 5\n",
            "A largura da parede foi 5.0m, e a sua altura foi de 5.0m, contudo sua area foi de 25.0m^2, e a quantidade de tinta usada foi de 12.5 litros\n"
          ]
        }
      ]
    },
    {
      "cell_type": "markdown",
      "source": [
        "# ***EX.8 - FAÇA UM ALGORITMO QUE LEIA O PREÇO DE UM PRODUTO E MOSTRE SEU NOVO PREÇO COM 5% DE DESCONTO***"
      ],
      "metadata": {
        "id": "3_HMvyQMQzGF"
      }
    },
    {
      "cell_type": "code",
      "source": [
        "#desconto\n",
        "produto = float(input('digite o preço do produto: R$'))\n",
        "desconto = produto - (produto * 5/100 )\n",
        "print(\"O desconto de 5% do produto foi de R${:.2f}\".format(desconto))"
      ],
      "metadata": {
        "colab": {
          "base_uri": "https://localhost:8080/"
        },
        "id": "u2Pa1UmSQrkn",
        "outputId": "61e30154-1412-4690-b216-5066071e0355"
      },
      "execution_count": null,
      "outputs": [
        {
          "output_type": "stream",
          "name": "stdout",
          "text": [
            "digite o preço do produto: R$4\n",
            "O desconto de 5% do produto foi de R$3.80\n"
          ]
        }
      ]
    },
    {
      "cell_type": "markdown",
      "source": [
        "# ***EX.9 - FAÇA UM ALGORITMO QUE LEIA O SALARIO DE UM FUNCIONARIO E MOSTRE SEU NOVO SALARIO COM 15% DE AUMENTO***"
      ],
      "metadata": {
        "id": "ZjY0Y05QTpNM"
      }
    },
    {
      "cell_type": "code",
      "source": [
        "#aumento\n",
        "salario = float(input('Digite seu salario: R$'))\n",
        "aumento = salario + (salario * 15/100)\n",
        "print(\"Seu salario com 15% de aumento foi de R${:.2f}\".format(aumento))"
      ],
      "metadata": {
        "colab": {
          "base_uri": "https://localhost:8080/"
        },
        "id": "P2y7tRosTodm",
        "outputId": "a0cb9659-27d7-46d2-fc25-2e7a062950ec"
      },
      "execution_count": null,
      "outputs": [
        {
          "output_type": "stream",
          "name": "stdout",
          "text": [
            "Digite seu salario: R$1000\n",
            "Seu salario com 15% de aumento foi de R$1150.00\n"
          ]
        }
      ]
    },
    {
      "cell_type": "markdown",
      "source": [
        "# ***EX.10 - CONVERSOR DE TEMPERATURA***"
      ],
      "metadata": {
        "id": "pAwuv_CUzJYf"
      }
    },
    {
      "cell_type": "code",
      "source": [
        "#Converso de temperatura\n",
        "c = float(input(\"Digite a temperatura em Celsius: \"))\n",
        "print('A sua temperatura de {}C corresponde a {:.1f}F'.format(c, (c*9/5) + 32))"
      ],
      "metadata": {
        "colab": {
          "base_uri": "https://localhost:8080/"
        },
        "id": "w_RAc0ukzI0m",
        "outputId": "08b10ffa-6e7e-46b7-96a0-f03195b3d92a"
      },
      "execution_count": null,
      "outputs": [
        {
          "output_type": "stream",
          "name": "stdout",
          "text": [
            "Digite a temperatura em Celsius: 40\n",
            "A sua temperatura de 40.0C corresponde a 104.0F\n"
          ]
        }
      ]
    },
    {
      "cell_type": "markdown",
      "source": [
        "# ***EX.11 - ESCREVA UM PROGRAMA QUE PERGUNTE A QUANTIDADE DE KM PECORRIDOS POR UM CARRO ALUGADO E A QUANTIDADE DE DIAS PELOS QUAIS ELE FOI ALUGADO. CALCULE O PREÇO A PAGAR. SABENDO QU O CARRO CUSTA 60 REAIS POR DIA E 0,15 REAIS POR KM RODADO***"
      ],
      "metadata": {
        "id": "hrvEy_Nm3DR8"
      }
    },
    {
      "cell_type": "code",
      "source": [
        "#Alugel de carro\n",
        "dias = int(input(\"Digite a quantidade de dias alugados: \"))\n",
        "km = float(input(\"Digite a quantidade de km percorridos: \"))\n",
        "\n",
        "#p(d) = a*d | p(km) = a*km -> p(d) + p(km)\n",
        "preco = (60 * dias) + (0.15 * km)\n",
        "print(\"O preço a pagar é de R${:.2f}\".format(preco))"
      ],
      "metadata": {
        "colab": {
          "base_uri": "https://localhost:8080/"
        },
        "id": "kj1Gh4QQ3D4O",
        "outputId": "fa38e091-81c1-4bfe-ae4c-f2af2eb5dc59"
      },
      "execution_count": null,
      "outputs": [
        {
          "output_type": "stream",
          "name": "stdout",
          "text": [
            "Digite a quantidade de dias alugados: 3\n",
            "Digite a quantidade de km percorridos: 350\n",
            "O preço a pagar é de R$232.50\n"
          ]
        }
      ]
    },
    {
      "cell_type": "markdown",
      "source": [
        "# **VOLTANDO AS AULAS:**"
      ],
      "metadata": {
        "id": "cEJq3VUq7iY_"
      }
    },
    {
      "cell_type": "markdown",
      "source": [
        "# ***UTILIZANDO MÓDULOS***"
      ],
      "metadata": {
        "id": "nAeJ1v4h7ujJ"
      }
    },
    {
      "cell_type": "code",
      "source": [
        "#Duas maneira de importa modulos:\n",
        "# import (..) -> importa toda função de uma biblioteca (Puxa mais memória)\n",
        "# from (..) import (..) -> importa uma funcão especifica da biblioteca (Economiza mais memória)\n",
        "\n",
        "# Ex:\n",
        "import math #biblioteca de funções matematicas\n",
        "n1 = int(input(\"Digite um número: \"))\n",
        "raiz = math.sqrt(n1) #sqrt calcula a raiz quadrada\n",
        "print(\"A raiz de {} é igual a {:.2f}\".format(n1, raiz))\n",
        "print(\"A raiz de {} é igual a {}\".format(n1, math.ceil(raiz))) #ceil arredonda o número para acima\n",
        "print(\"A raiz de {} é igual a {}\".format(n1, math.floor(raiz))) #floor arredonda o número para abaixo\n",
        "\n",
        "\n",
        "# Ex:\n",
        "from math import sqrt, floor\n",
        "raiz = sqrt(n1) #Se digita sqrt sem o math, pois só importei essa função em especifico\n",
        "print(\"A raiz quadrada é {}\".format(floor(raiz)))"
      ],
      "metadata": {
        "colab": {
          "base_uri": "https://localhost:8080/"
        },
        "id": "SnnewImb7ejj",
        "outputId": "03fecef7-1579-4d0b-d80b-b26436aa0fd3"
      },
      "execution_count": null,
      "outputs": [
        {
          "output_type": "stream",
          "name": "stdout",
          "text": [
            "Digite um número: 29\n",
            "A raiz de 29 é igual a 5.39\n",
            "A raiz de 29 é igual a 6\n",
            "A raiz de 29 é igual a 5\n",
            "A raiz quadrada é 5\n"
          ]
        }
      ]
    },
    {
      "cell_type": "markdown",
      "source": [
        "# ***UTILIZANDO OUTRAS BIBLIOTECAS***"
      ],
      "metadata": {
        "id": "OGXwC-svHKDe"
      }
    },
    {
      "cell_type": "code",
      "source": [
        "#Escolhendo um número\n",
        "import random #Biblioteca aleatoria\n",
        "n1 = random.random() #Escolhe um número aleatorio\n",
        "n2 = random.randint(1, 10) #Escolhe um numero aleatorio entre 1 a 10\n",
        "print(n1,\",\", n2)\n",
        "\n"
      ],
      "metadata": {
        "colab": {
          "base_uri": "https://localhost:8080/"
        },
        "id": "d_jMrGmjHItI",
        "outputId": "c4e53182-d922-4aa3-c4e0-69db7d8aede0"
      },
      "execution_count": null,
      "outputs": [
        {
          "output_type": "stream",
          "name": "stdout",
          "text": [
            "0.8553426503089174 , 5\n"
          ]
        }
      ]
    },
    {
      "cell_type": "markdown",
      "source": [
        "# ***EXERCICIOS:***"
      ],
      "metadata": {
        "id": "LyYDnBpcLmCp"
      }
    },
    {
      "cell_type": "markdown",
      "source": [
        "# ***EX.12 - CRIE UM PROGRAMA QUE LEIA UM NÚMERO REAL QUALQUER PELO TECLADO E MOSTRE NA TELA A SUA PORÇÃO INTEIRA***"
      ],
      "metadata": {
        "id": "hjkQwlBMLvDw"
      }
    },
    {
      "cell_type": "code",
      "source": [
        "from math import floor\n",
        "n1 = float(input(\"Digite um número real: \"))\n",
        "print(\"O número {} tem a parte inteira {}\".format(n1, floor(n1)))"
      ],
      "metadata": {
        "colab": {
          "base_uri": "https://localhost:8080/"
        },
        "id": "U6xm3BgtMD-v",
        "outputId": "64946cf2-1fad-43cd-d53a-f6f29619da6e"
      },
      "execution_count": null,
      "outputs": [
        {
          "output_type": "stream",
          "name": "stdout",
          "text": [
            "Digite um número real: 9.123\n",
            "O número 9.123 tem a parte inteira 9\n"
          ]
        }
      ]
    },
    {
      "cell_type": "markdown",
      "source": [
        "# ***EX.13 - FAÇA UM PROGRAMA QUE LEIA O COMPRIMENTO DO CATETO OPOSTO E DO CATETO ADJACENTE DE UM TRIANGULO RETÂNGULO. CALCULE E MOSTRE O COMPRIMENTO DA HIPOTENUSA***"
      ],
      "metadata": {
        "id": "FieYQT42M5fZ"
      }
    },
    {
      "cell_type": "code",
      "source": [
        "#Hipotenusa\n",
        "from math import hypot\n",
        "x = float(input(\"Digite o comprimento do cateto oposto: \")) #cateto oposto\n",
        "y = float(input(\"Digite o comprimento do cateto adjacente: \")) #cateto adjacente\n",
        "print(\"O comprimento da sua hipotenusa é {:.2f}\".format(hypot(x, y)))"
      ],
      "metadata": {
        "colab": {
          "base_uri": "https://localhost:8080/"
        },
        "id": "GW9w266GPoug",
        "outputId": "e0bd6e95-fe54-4fe9-a927-3a60ce15c6dd"
      },
      "execution_count": null,
      "outputs": [
        {
          "output_type": "stream",
          "name": "stdout",
          "text": [
            "Digite o comprimento do cateto oposto: 4\n",
            "Digite o comprimento do cateto adjacente: 4\n",
            "O comprimento da sua hipotenusa é 5.66\n"
          ]
        }
      ]
    },
    {
      "cell_type": "markdown",
      "source": [
        "# ***EX.14 - FAÇA UM PROGRAMA QUE LEIA UM ANGULO QUALQUER E MOSTRE NA TELA O VALOR DO SENO, COSSENO E TANGENTE DESSE ANGULO***"
      ],
      "metadata": {
        "id": "Re_LbnfQ_uAb"
      }
    },
    {
      "cell_type": "code",
      "source": [
        "from math import sin, cos, tan, radians\n",
        "angulo = int(input(\"Digite um ângulo: \"))\n",
        "seno = sin(radians(angulo))\n",
        "cos = cos(radians(angulo))\n",
        "tangente = tan(radians(angulo))\n",
        "print(\"O ângulo de {} tem o seno de {:.2f}, o cosseno de {:.2f} e a tangente de {:.2f}\".format(angulo, seno, cos, tangente))\n"
      ],
      "metadata": {
        "colab": {
          "base_uri": "https://localhost:8080/"
        },
        "id": "-Zo417xh_tsr",
        "outputId": "20de2dc6-fb56-48d3-e369-94394f13fdc2"
      },
      "execution_count": null,
      "outputs": [
        {
          "output_type": "stream",
          "name": "stdout",
          "text": [
            "Digite um ângulo: 30\n",
            "O ângulo de 30 tem o seno de 0.50, o cosseno de 0.87 e a tangente de 0.58\n"
          ]
        }
      ]
    },
    {
      "cell_type": "markdown",
      "source": [
        "# ***EX.15 - UM PROFESSOR QUER SORTEAR UM DOS SEUS QUATRO ALUNOS PARA APAGAR O QUADRO. FAÇA UM PROGRAMA QUE AJUDE ELE, LENDO O NOME DELES E ESCREVENDO O NOME DO ESCOLHIDO***"
      ],
      "metadata": {
        "id": "0lcur5PhDwD8"
      }
    },
    {
      "cell_type": "code",
      "source": [
        "from random import choice\n",
        "n1 = input(\"Digite o nome do primeiro aluno: \")\n",
        "n2 = input(\"Digite o nome do segundo aluno: \")\n",
        "n3 = input(\"Digite o nome do terceiro aluno: \")\n",
        "n4 = input(\"Digite o nome do quarto aluno: \")\n",
        "alunos = [n1, n2, n3, n4]\n",
        "escolha = choice(alunos)\n",
        "print(\"O aluno escolhido foi {}\".format(escolha))"
      ],
      "metadata": {
        "colab": {
          "base_uri": "https://localhost:8080/"
        },
        "id": "VmpjuKSKXnzC",
        "outputId": "b94d190a-3197-49bb-8c3a-5eb66337d83a"
      },
      "execution_count": null,
      "outputs": [
        {
          "output_type": "stream",
          "name": "stdout",
          "text": [
            "Digite o nome do primeiro aluno: ana\n",
            "Digite o nome do segundo aluno: paulo\n",
            "Digite o nome do terceiro aluno: carlos\n",
            "Digite o nome do quarto aluno: maria\n",
            "O aluno escolhido foi ana\n"
          ]
        }
      ]
    },
    {
      "cell_type": "markdown",
      "source": [
        "# ***EX.16 - O MESMO PROFESSOR DO DESAFIO ANTERIOR QUER SOTEAR A ORDEM DE APRESENTAÇÃO DE TRABALHOS DOS ALUNOS QUE LEIA O NOME DOS 4 ALUNOS E MOSTRE A ORDEM SORTEADA***"
      ],
      "metadata": {
        "id": "RWMGxtR7GMRc"
      }
    },
    {
      "cell_type": "code",
      "source": [
        "from random import shuffle\n",
        "n1 = input(\"Digite o nome do primeiro aluno: \")\n",
        "n2 = input(\"Digite o nome do segundo aluno: \")\n",
        "n3 = input(\"Digite o nome do terceiro aluno: \")\n",
        "n4 = input(\"Digite o nome do quarto aluno: \")\n",
        "alunos = [n1,n2,n3,n4]\n",
        "escollha = shuffle(alunos)\n",
        "print(\"A ordem de apresentação será {}\".format(alunos))"
      ],
      "metadata": {
        "colab": {
          "base_uri": "https://localhost:8080/"
        },
        "id": "TSpfA0ylXvgR",
        "outputId": "0860dcff-5874-4bb5-b5fb-3cfd386935a6"
      },
      "execution_count": null,
      "outputs": [
        {
          "output_type": "stream",
          "name": "stdout",
          "text": [
            "Digite o nome do primeiro aluno: luiz\n",
            "Digite o nome do segundo aluno: ana\n",
            "Digite o nome do terceiro aluno: paulo\n",
            "Digite o nome do quarto aluno: mateus\n",
            "A ordem de apresentação será ['paulo', 'ana', 'luiz', 'mateus']\n"
          ]
        }
      ]
    },
    {
      "cell_type": "markdown",
      "source": [
        "# **VOLTANDO AS AULAS:**"
      ],
      "metadata": {
        "id": "zQ5U4UsCz6k8"
      }
    },
    {
      "cell_type": "markdown",
      "source": [
        "# ***MANIPULANDO TEXTO (STRING)***"
      ],
      "metadata": {
        "id": "fIPKS7xE0BGk"
      }
    },
    {
      "cell_type": "code",
      "source": [
        "#Manipulando cadeias de texto - *Extremamente importante*\n",
        "#cadeias de caracteres = string - ex:\n",
        "cadeia_de_texto_exemplo = \"Curso em Video Python;\" #essa frase cria mini espaços dentro da memoria do computador\n",
        "#Esses mini espaços possuem indices - Nesse exemplo acima ele possue 21 indices começando do 0 até o 20 (Os espaços tbm contam)\n"
      ],
      "metadata": {
        "id": "9OfOGW9y0RSC"
      },
      "execution_count": null,
      "outputs": []
    },
    {
      "cell_type": "markdown",
      "source": [
        "# ***FATIAMENTO DE STRING (TEXTO)***"
      ],
      "metadata": {
        "id": "r4B73dRe2NB1"
      }
    },
    {
      "cell_type": "code",
      "source": [
        "#Tecnica de manipulação de string - Fatiamento\n",
        "#Temos 3 tipos:\n",
        "\n",
        "#COMEÇA\n",
        "print(cadeia_de_texto_exemplo[9]) #indentifica o caracter pelo seu indice\n",
        "\n",
        "\n",
        "#COMEÇA:PARAR\n",
        "print(cadeia_de_texto_exemplo[9:15]) #faz um intevalo entre os caracteres do indice 9 até o 14 (Obs: O 15 é um intervalo aberto então não entra)\n",
        "#A palavra que se forma é: * Video *\n",
        "#Importante: O ultimo valor não entra na contagem, aqui no caso quem não entrou foi o indice 15 que é um: espaço vazio\n",
        "\n",
        "\n",
        "\n",
        "#COMEÇA:PARAR:PULAR\n",
        "print(cadeia_de_texto_exemplo[9:21:3]) #Esse terceiro significa que vai pular tudo em 2 em dois\n",
        "#Se ler dessa forma: [COMEÇA no indice 9: PARAR no indice 20: E PULA de dois em dois]\n",
        "#Obs: se eu colocaque o número 2 ali iria pular de 1 em 1, mas colocando o número 3, ele pula de 2 em 2, assim sucessivamente\n",
        "\n",
        "\n",
        "#Casos especiais de fatiamento:\n",
        "\n",
        "# :PARAR\n",
        "print(cadeia_de_texto_exemplo[:5]) #Indica apenas aonde o intervalo vai parar\n",
        "#Geralmente quando não se tem um indice no \"COMEÇA\", o python entende como o indice 0\n",
        "#Então fica: [0: PARA no indice 4]\n",
        "\n",
        "\n",
        "\n",
        "# COMEÇA:\n",
        "print(cadeia_de_texto_exemplo[15:]) #Indica o inicio, mas não aonde vai para\n",
        "#Geralmente quando não se indica o \"PARAR\" ele vai até o final da frase\n",
        "#Então fica: [COMEÇA no 15: vai até o final da frase]\n",
        "\n",
        "\n",
        "\n",
        "# COMEÇA::PULAR\n",
        "print(cadeia_de_texto_exemplo[9::2]) #Indica onde começa e quantos pular\n",
        "#Se ler: [COMEÇA do 9: vai até o final: PULA de 1 em 1 ]"
      ],
      "metadata": {
        "colab": {
          "base_uri": "https://localhost:8080/"
        },
        "id": "vvjfSgr_2aEL",
        "outputId": "ac533394-9f79-4ada-adbb-9ac4211ecab3"
      },
      "execution_count": null,
      "outputs": [
        {
          "output_type": "stream",
          "name": "stdout",
          "text": [
            "V\n",
            "Video \n",
            "VePh\n",
            "Curso\n",
            "Python;\n",
            "VdoPto;\n"
          ]
        }
      ]
    },
    {
      "cell_type": "markdown",
      "source": [
        "# ***ANÁLISE DE STRING***"
      ],
      "metadata": {
        "id": "fQL-G1knDdx7"
      }
    },
    {
      "cell_type": "code",
      "source": [
        "#Tecnica de manipulação de string - Analise de String\n",
        "\n",
        "#Analise de tamanho/comprimento da frase:\n",
        "print(len(cadeia_de_texto_exemplo)) #Amostra o comprimento/tamanho do texto\n",
        "\n",
        "\n",
        "#Analise da contagem de letra:\n",
        "print(cadeia_de_texto_exemplo.count('o')) #Amostra a quantos \"o\" minusculo que tem no texto\"\n",
        "\n",
        "\n",
        "#Analise da contagem com fatiamento:\n",
        "print(cadeia_de_texto_exemplo.count('o', 0, 14))\n",
        "# (Palavra que eu quero contar ,COMEÇA pelo indice 0, PARA no indice 13(verificando no caminho se tem o \"o\"))\n",
        "\n",
        "\n",
        "#Analise de indice:\n",
        "print(cadeia_de_texto_exemplo.find('Video')) #Verifica em qual indice a frase \"Video\" começou\n",
        "print(cadeia_de_texto_exemplo.rfind('Video')) #Verifica em qual indice a frase \"Video\" Terminou\n",
        "print(cadeia_de_texto_exemplo.find(\"Android\")) #Retorna -1\n",
        "#Obs: Esse valor não existe nessa string, então o python retorna -1 sinalizando que essa frase não exite no texto\n",
        "\n",
        "\n",
        "#Analisando se a frase está contida ou não na frase:\n",
        "print('Curso' in cadeia_de_texto_exemplo) #Verifica se a palavra \"Curso\" está na variavel, retornando True ou False\n",
        "#Faz a pergunta de: Dentro dessa variavel possui a palavra \"Curso\"?\n"
      ],
      "metadata": {
        "colab": {
          "base_uri": "https://localhost:8080/"
        },
        "id": "uQqDaWx0Dsbi",
        "outputId": "f07bae26-6a2e-4410-b185-92ba853b4dac"
      },
      "execution_count": null,
      "outputs": [
        {
          "output_type": "stream",
          "name": "stdout",
          "text": [
            "22\n",
            "3\n",
            "2\n",
            "9\n",
            "9\n",
            "-1\n",
            "True\n"
          ]
        }
      ]
    },
    {
      "cell_type": "markdown",
      "source": [
        "# ***TRANSFORMAÇÃO***"
      ],
      "metadata": {
        "id": "eVH4tRoVLB6W"
      }
    },
    {
      "cell_type": "code",
      "source": [
        "#Tecnica de manipulação de string - Transformação\n",
        "\n",
        "#Troca:\n",
        "print(cadeia_de_texto_exemplo.replace('Python', 'Android')) #Troca a palavra \"Python\" por \"Android\"\n",
        "print(cadeia_de_texto_exemplo.replace(';', '.')) #Troca o \";\" por \".\"\n",
        "\n",
        "\n",
        "#Maiuscula:\n",
        "print(cadeia_de_texto_exemplo.upper()) #Deixa a frase em maiusculo\n",
        "\n",
        "\n",
        "#Minuscula:\n",
        "print(cadeia_de_texto_exemplo.lower()) #Deixa a frase em minusculo\n",
        "\n",
        "\n",
        "#Apenas a primeira maiuscula:\n",
        "print(cadeia_de_texto_exemplo.capitalize()) #Deixa a primeira letra em maiusculo e o restante em minusculo\n",
        "\n",
        "\n",
        "#Primeira em maiuscula aonde tem espaços:\n",
        "print(cadeia_de_texto_exemplo.title()) #Deixa as primeiras palavras em maiusculo, aonde se tem espaço\n",
        "\n",
        "\n",
        "#Removendo espaços:\n",
        "frase = \"  Aprenda Python  \"\n",
        "print(frase.strip()) #Remove os espaços inuteis do inicio e no final da string, e mantem os espaços uteis\n",
        "print(frase.rstrip()) #Remove os ultimos espaços(direita) - e mantem os da esquerda\n",
        "print(frase.lstrip()) #Remove os primeiros espaços(esquerda) - e mantem os da direita\n",
        "\n",
        "\n",
        "#Dividindo String:\n",
        "print(cadeia_de_texto_exemplo.split()) #Dividi as frases, criando novas strings atraves de seus espaços\n",
        "#Isso vai criar uma lista de string, onde seus indices vão ser de 0 até 3\n",
        "\n",
        "\n",
        "#Junção de string\n",
        "print(\"-\".join(cadeia_de_texto_exemplo)) #Junta todos as frases atraves de um separador, como esse: \"-\"\n",
        "print(\" \".join(cadeia_de_texto_exemplo)) #Junta todos as frases atraves de um separador, como esse: \" \"\n",
        "\n",
        "\n"
      ],
      "metadata": {
        "colab": {
          "base_uri": "https://localhost:8080/"
        },
        "id": "hw_ineRuLI_-",
        "outputId": "5a13b136-4cce-4220-a1d4-b5b6110596a5"
      },
      "execution_count": null,
      "outputs": [
        {
          "output_type": "stream",
          "name": "stdout",
          "text": [
            "Curso em Video Android;\n",
            "Curso em Video Python.\n",
            "CURSO EM VIDEO PYTHON;\n",
            "curso em video python;\n",
            "Curso em video python;\n",
            "Curso Em Video Python;\n",
            "Aprenda Python\n",
            "  Aprenda Python\n",
            "Aprenda Python  \n",
            "['Curso', 'em', 'Video', 'Python;']\n",
            "C-u-r-s-o- -e-m- -V-i-d-e-o- -P-y-t-h-o-n-;\n",
            "C u r s o   e m   V i d e o   P y t h o n ;\n"
          ]
        }
      ]
    },
    {
      "cell_type": "markdown",
      "source": [
        "# **EXERCICIOS:**"
      ],
      "metadata": {
        "id": "yvXTR-Q_TodD"
      }
    },
    {
      "cell_type": "markdown",
      "source": [
        "# ***EX.17 - Crie um programa que leia o nome completo de uma pessoa e mostre:***\n",
        "# ***- O nome com todas as letras maiusculas***\n",
        "# ***- O nome com todas minusculas***\n",
        "# ***- Quantas letras ao todo sem considerar espaços***\n",
        "# ***- Quantas letras tem o primeiro nome***"
      ],
      "metadata": {
        "id": "1_GGbyixTvuE"
      }
    },
    {
      "cell_type": "code",
      "source": [
        "nome = str(input('Digite seu nome completo :')).strip()\n",
        "print(\"Seu nome em maiusculo é: {}\".format(nome.upper()))\n",
        "print(\"Seu nome em minusculo é: {}\".format(nome.lower()))\n",
        "print(\"Total de letras do seu nome: {}\".format(len(nome) - nome.count(\" \")))\n",
        "indice = nome.split()\n",
        "print(\"Total de letra do seu primeiro nome: {}\".format(len(indice[0])))"
      ],
      "metadata": {
        "id": "nF4Dsfc8cMHm",
        "colab": {
          "base_uri": "https://localhost:8080/"
        },
        "outputId": "fb7eee37-00e3-43bf-9db4-e0f8cd953e5b"
      },
      "execution_count": null,
      "outputs": [
        {
          "output_type": "stream",
          "name": "stdout",
          "text": [
            "Digite seu nome completo :  ana maria\n",
            "Seu nome em maiusculo é: ANA MARIA\n",
            "Seu nome em minusculo é: ana maria\n",
            "Total de letras do seu nome tirando os espaços é: 8\n",
            "Total de letra do seu primeiro nome: 3\n"
          ]
        }
      ]
    },
    {
      "cell_type": "markdown",
      "source": [
        "# ***EX.18 - FAÇA UM PROGRAMA QUE LEIA UM NUMERO DE 0 A 9999 E MOSTRE NA TELA CADA UM DOS DIGITOS SEPARADOS, COMO: UNIDADE, DEZENA, CENTENA, MILHAR***"
      ],
      "metadata": {
        "id": "0Qf5_-zidbFV"
      }
    },
    {
      "cell_type": "code",
      "source": [
        "n1 = int(input(\"Digite um número de 0 a 9999: \"))\n",
        "u = n1 // 1 % 10\n",
        "d = n1 // 10 % 10\n",
        "c = n1 // 100 % 10\n",
        "m = n1 // 1000 % 10\n",
        "print(\"Unidade: {}\".format(u))\n",
        "print(\"Dezena: {}\".format(d))\n",
        "print(\"Centena: {}\".format(c))\n",
        "print(\"Milhar: {}\".format(m))"
      ],
      "metadata": {
        "id": "2Ii2V-Mtd5Hp",
        "colab": {
          "base_uri": "https://localhost:8080/"
        },
        "outputId": "d672cec3-4cce-4646-a8b5-012b959b36f2"
      },
      "execution_count": null,
      "outputs": [
        {
          "output_type": "stream",
          "name": "stdout",
          "text": [
            "Digite um número de 0 a 9999: 12\n",
            "Unidade: 2\n",
            "Dezena: 1\n",
            "Centena: 0\n",
            "Milhar: 0\n"
          ]
        }
      ]
    },
    {
      "cell_type": "markdown",
      "source": [
        "# ***EX.19 - CRIE UM PROGRAMA QUE LEIA O NOME DE UMA CIDADE E DIGA SE ELA COMEÇA OU NÃO COM O NOME 'SANTO'***"
      ],
      "metadata": {
        "id": "t7ovIA37d7y0"
      }
    },
    {
      "cell_type": "code",
      "source": [
        "cidade_nome = input(\"Digite o nome de uma cidade: \").strip().capitalize().split()\n",
        "print(\"Contem Santos no nome? \",\"Santo\" in cidade_nome[0])\n",
        "\n",
        "#De um modo diferente:\n",
        "#cid = input(\"Digite o nome de uma cidade: \").strip()\n",
        "#print(cid[:5].upper() == \"SANTO\")"
      ],
      "metadata": {
        "id": "V84LREY5eYRb",
        "colab": {
          "base_uri": "https://localhost:8080/"
        },
        "outputId": "7360763c-9a1e-4fe5-e67b-9652d574643d"
      },
      "execution_count": null,
      "outputs": [
        {
          "output_type": "stream",
          "name": "stdout",
          "text": [
            "Digite o nome de uma cidade: santo antonio\n",
            "Contem Santos no nome?  True\n",
            "Digite o nome de uma cidade:  santo antonio\n",
            "True\n"
          ]
        }
      ]
    },
    {
      "cell_type": "markdown",
      "source": [
        "# ***EX.20 - CRIE UM PROGRAMA QUE LEIA O NOME DE UMA PESSOA E DIGA SE ELA TEM 'SILVA' NO NOME.***"
      ],
      "metadata": {
        "id": "ynXc5Cr2ebNs"
      }
    },
    {
      "cell_type": "code",
      "source": [
        "nome2 = input(\"Digite seu nome completo: \").strip()\n",
        "print(\"Tem Silva no nome? {}\".format('SILVA' in nome2.upper()))"
      ],
      "metadata": {
        "id": "TfAYPvhoe9MS",
        "colab": {
          "base_uri": "https://localhost:8080/"
        },
        "outputId": "628c118d-fad1-42e0-f00c-7a7bf6db7e7b"
      },
      "execution_count": null,
      "outputs": [
        {
          "output_type": "stream",
          "name": "stdout",
          "text": [
            "Digite seu nome completo:   Maria SILva CadoSo\n",
            "Tem Silva no nome? True\n"
          ]
        }
      ]
    },
    {
      "cell_type": "markdown",
      "source": [
        "# ***EX.21 - FAÇA UM PROGRAMA QUE LEIA UMA FRASE PELO TECLADO E MOSTRE:***\n",
        "# ***- QUANTAS VEZES APARECE A LETRA \"A\"***\n",
        "# ***- EM QUE POSIÇÃO ELA APARECE A PRIMEIRA VEZ***\n",
        "# ***- EM QUE POSIÇÃO ELA APARECE A ÚLTIMA VEZ***"
      ],
      "metadata": {
        "id": "8dcdkfXte9n6"
      }
    },
    {
      "cell_type": "code",
      "source": [
        "frase = input(\"Digite uma frase: \").upper().strip()\n",
        "print(\"A letra A aparece {} vezes na frase\".format(frase.count(\"A\")))\n",
        "print(\"A letra A aparece na posição {}\".format(frase.find(\"A\") + 1))\n",
        "print(\"A letra A aparece pela ultima vez na posição {}\".format(frase.rfind(\"A\") + 1))"
      ],
      "metadata": {
        "id": "7_6GqSn7flqO",
        "colab": {
          "base_uri": "https://localhost:8080/"
        },
        "outputId": "00e5facf-37c2-48b0-9b70-ec499d9c8747"
      },
      "execution_count": null,
      "outputs": [
        {
          "output_type": "stream",
          "name": "stdout",
          "text": [
            "Digite uma frase:    Arara Azul\n",
            "A letra A aparece 4 vezes na frase\n",
            "A letra A aparece na posição 1\n",
            "A letra A aparece pela ultima vez na posição 7\n"
          ]
        }
      ]
    },
    {
      "cell_type": "markdown",
      "source": [
        "# ***EX.22 - FAÇA UM PROGRAMA QUE LEIA O NOME COMPLETO DE UMA PESSOA, MOSTRANDO EM SEGUIDA O PRIMEIRO E O ULTIMO NOME SEPARADAMENTE***"
      ],
      "metadata": {
        "id": "i9hwhHO2fsMJ"
      }
    },
    {
      "cell_type": "code",
      "source": [
        "nome3 = str(input(\"Digite seu nome completo: \")).strip()\n",
        "nome3 = nome3.split()\n",
        "print(\"Seu primeiro nome é {} e seu ultimo nome é {}\".format(nome3[0], nome3[-1]))\n",
        "#Esse -1 indica o ultimo indice, -2 o pnultimo,....\n",
        "\n",
        "#Ou:\n",
        "#print(\"Seu primeiro nome é {} e seu ultimo nome é {}\".format(nome3[0], nome3[len(nome3) - 1]))"
      ],
      "metadata": {
        "id": "6tdI1-ODgAgi",
        "colab": {
          "base_uri": "https://localhost:8080/"
        },
        "outputId": "93803d69-efc0-4c31-e103-cb6715d73a48"
      },
      "execution_count": null,
      "outputs": [
        {
          "output_type": "stream",
          "name": "stdout",
          "text": [
            "Digite seu nome completo: luiz fernana alcantar\n",
            "Seu primeiro nome é luiz e seu ultimo nome é alcantar\n"
          ]
        }
      ]
    },
    {
      "cell_type": "markdown",
      "source": [
        "# ***VOLTANDO AS AULAS:***"
      ],
      "metadata": {
        "id": "WbJWJfnWw1Qy"
      }
    },
    {
      "cell_type": "markdown",
      "source": [
        "# ***CONDICIONAL (PARTE 1)***"
      ],
      "metadata": {
        "id": "Ke0gpL5Kw7sj"
      }
    },
    {
      "cell_type": "code",
      "source": [
        "#Condicionais = possibilidade = condições\n",
        "#Para definimos condicionais usamos o if(se) e else(senão)\n",
        "\"\"\"\n",
        "if condição: #Se a condição for verdadeira\n",
        "  bloco de codigo_V_\n",
        "    (..)\n",
        "else: #Se a condição for falsa\n",
        "  bloco de codigo_F_\n",
        "    (..)\n",
        "      \"\"\"\n",
        "#Em uma condição ou o bloco verdadeir ou o bloco falso é executado,\n",
        "#nunca os dois ao mesmo tempo\n",
        "\n",
        "#Exemplo:\n",
        "tempo = int(input(\"Quantos anos tem seu carro? \"))\n",
        "if tempo <= 3:\n",
        "  print(\"Carro novo\")\n",
        "else:\n",
        "  print(\"Carro velho\")\n",
        "print(\"--FIM--\")\n",
        "\n",
        "\n",
        "#Uma forma mais rapido de se fazer condicional:\n",
        "tempo = int(input(\"Quantos anos tem seu carro? \"))\n",
        "print(\"Carro novo\" if tempo <= 3 else \"Carro velho\") #if simplificado\n",
        "print(\"--FIM--\")\n",
        "\n"
      ],
      "metadata": {
        "id": "DHdKxQpDxQW4",
        "colab": {
          "base_uri": "https://localhost:8080/"
        },
        "outputId": "3e57374c-183e-4dac-c04d-183f862a3b20"
      },
      "execution_count": null,
      "outputs": [
        {
          "output_type": "stream",
          "name": "stdout",
          "text": [
            "Quantos anos tem seu carro? 3\n",
            "Carro novo\n",
            "--FIM--\n",
            "Quantos anos tem seu carro? 5\n",
            "Carro velho\n",
            "--FIM--\n"
          ]
        }
      ]
    },
    {
      "cell_type": "code",
      "source": [
        "#Praticando condicionais (if composto):\n",
        "nome = str(input(\"Qual é seu nome? \")).strip()\n",
        "if nome == \"Gustavo\":\n",
        "  print(\"Que nome lindo você tem!\")\n",
        "else:\n",
        "  print(\"Seu nome é tão normal!\")\n",
        "print(\"Bom dia {}!\".format(nome))"
      ],
      "metadata": {
        "colab": {
          "base_uri": "https://localhost:8080/"
        },
        "id": "Ot1lWzte7Oil",
        "outputId": "e46439e5-b7b7-4595-82fe-88a250409951"
      },
      "execution_count": null,
      "outputs": [
        {
          "output_type": "stream",
          "name": "stdout",
          "text": [
            "Qual é seu nome? Gustavo\n",
            "Que nome lindo você tem!\n",
            "Bom dia Gustavo!\n"
          ]
        }
      ]
    },
    {
      "cell_type": "code",
      "source": [
        "#Praticando condicionais (if simplificado):\n",
        "n1 = float(input(\"Digite a primeira nota: \"))\n",
        "n2 = float(input(\"Digite a segunda nota: \"))\n",
        "media = (n1 + n2)/2\n",
        "print(\"A sua média foi {:.1f}\".format(media))\n",
        "print(\"Você passou, Parabens!\" if media >= 6 else \"Você não passou! É necessario ter média 6 para passar\")"
      ],
      "metadata": {
        "colab": {
          "base_uri": "https://localhost:8080/"
        },
        "id": "Fp-SDQpxCkhY",
        "outputId": "9ae34ee5-04fd-4c36-85fe-b0ea8dceb34d"
      },
      "execution_count": null,
      "outputs": [
        {
          "output_type": "stream",
          "name": "stdout",
          "text": [
            "Digite a primeira nota: 3.5\n",
            "Digite a segunda nota: 6.9\n",
            "A sua média foi 5.2\n",
            "Você não passou! É necessario ter média 6 para passar\n"
          ]
        }
      ]
    },
    {
      "cell_type": "markdown",
      "source": [
        "# ***EXERCICIOS:***"
      ],
      "metadata": {
        "id": "ug512PeJE2Bh"
      }
    },
    {
      "cell_type": "markdown",
      "source": [
        "# ***Ex.23 -  Escreva um programa que faça o computador \"pensar\" em um número inteiro entre 0 e 5 e peça para o usuario tentar descobrir qual foi o numero que o computador pensou. O programa devera escrever na tela se o usuario venceu ou perdeu.***"
      ],
      "metadata": {
        "id": "AC89wTdJE7p4"
      }
    },
    {
      "cell_type": "code",
      "source": [
        "from random import randint\n",
        "from time import sleep #funciona como um tipo de espera\n",
        "computador = randint(0,5)\n",
        "print(\"-=-\"*18)\n",
        "print(\"Tente adivinhar em que número eu to pensando de 0 á 5\")\n",
        "print(\"-=-\"*18)\n",
        "descubra = int(input(\"Em que número eu pensei? \"))\n",
        "print('PROCESSANDO....')\n",
        "sleep(3) #faz uma espera de 3 segundo para amostra o resultado\n",
        "if computador == descubra:\n",
        "  print(\"PARABENS! Você conseguiu me vencer!\")\n",
        "else:\n",
        "  print(\"Eu pensei no número {}. Infelizmente você perdeu!\".format(computador))\n"
      ],
      "metadata": {
        "id": "Qxs60ykUF6Oh",
        "colab": {
          "base_uri": "https://localhost:8080/"
        },
        "outputId": "8e5877d4-02d0-48d0-c152-974b57dba7f6"
      },
      "execution_count": null,
      "outputs": [
        {
          "output_type": "stream",
          "name": "stdout",
          "text": [
            "-=--=--=--=--=--=--=--=--=--=--=--=--=--=--=--=--=--=-\n",
            "Tente adivinhar em que número eu to pensando de 0 á 5\n",
            "-=--=--=--=--=--=--=--=--=--=--=--=--=--=--=--=--=--=-\n",
            "Em que número eu pensei? 3\n",
            "PROCESSANDO....\n",
            "Eu pensei no número 4. Infelizmente você perdeu!\n"
          ]
        }
      ]
    },
    {
      "cell_type": "markdown",
      "source": [
        "# ***Ex.24 - Escreva um programa que leia a velocidade de um carro. Se ele ultrapassar 80km/h mostre uma mensagem dizendo que ele foi multado, onde a multa vai custar 7 reais por cada km acima do limite***"
      ],
      "metadata": {
        "id": "AOXHKDLUGwbI"
      }
    },
    {
      "cell_type": "code",
      "source": [
        "v = int(input(\"Digite a velocidade do carro: Km/h\"))\n",
        "if v > 80:\n",
        " print(\"Você foi multado, sua multa é de {}\".format((v - 80) * 7))\n",
        "else:\n",
        "  print(\"Tenha um bom dia! Dirija com segurança!\")"
      ],
      "metadata": {
        "id": "Taq0ZYsTHzdJ",
        "colab": {
          "base_uri": "https://localhost:8080/"
        },
        "outputId": "7659275f-056b-414e-c58b-23fdd653a979"
      },
      "execution_count": null,
      "outputs": [
        {
          "output_type": "stream",
          "name": "stdout",
          "text": [
            "Digite a velocidade do carro: Km/h100\n",
            "Você foi multado, sua multa é de 140\n"
          ]
        }
      ]
    },
    {
      "cell_type": "markdown",
      "source": [
        "# ***Ex.25 - Crie um programa que leia um número inteiro e mostre na tela se ele é PAR ou ÍMPAR.***"
      ],
      "metadata": {
        "id": "UEZolYL5H5Hy"
      }
    },
    {
      "cell_type": "code",
      "source": [
        "n1 = int(input(\"Digite um número: \"))\n",
        "print(\"O número é par\" if n1 % 2 == 0 else \"O número é impar\")"
      ],
      "metadata": {
        "id": "GzSDKiSPIMbx",
        "colab": {
          "base_uri": "https://localhost:8080/"
        },
        "outputId": "8c8c7617-d4bd-4830-c770-9719f9697a6c"
      },
      "execution_count": null,
      "outputs": [
        {
          "output_type": "stream",
          "name": "stdout",
          "text": [
            "Digite um número: 12\n",
            "O número é par\n"
          ]
        }
      ]
    },
    {
      "cell_type": "markdown",
      "source": [
        "# ***ex.26 - Desenvolva um programa que pergunte a distancia de uma viagem em Km. Calcule o preço da passagem, cobrando 0,50 por Km para viagens de até 200km e 0,45 para viagens mais longas.***"
      ],
      "metadata": {
        "id": "ynJtCA7YINAu"
      }
    },
    {
      "cell_type": "code",
      "source": [
        "d = int(input(\"Distancia de uma viagem em Km: \"))\n",
        "\"\"\"if d <= 200:\n",
        "  print(\"A viagem custou {:.2f}\".format(d*0.50))\n",
        "else:\n",
        "  print(\"A viagem custou {:.2f}\".format(d*0.45))\"\"\"\n",
        "\n",
        "#De forma simplificada:\n",
        "preco = d * 0.50 if d <= 200 else d * 0.45\n",
        "print(\"A viagem custou R${:.2f}\".format(preco))"
      ],
      "metadata": {
        "id": "NolI7ZxzIzOY",
        "colab": {
          "base_uri": "https://localhost:8080/"
        },
        "outputId": "e4835d21-c834-45a9-dad6-a73532210311"
      },
      "execution_count": null,
      "outputs": [
        {
          "output_type": "stream",
          "name": "stdout",
          "text": [
            "Distancia de uma viagem em Km: 200\n",
            "A viagem custou R$100.00\n"
          ]
        }
      ]
    },
    {
      "cell_type": "markdown",
      "source": [
        "# ***Ex.27 - Faça um programa que leia um ano qualquer e mostre se ele é bissexto.***"
      ],
      "metadata": {
        "id": "ZEu1r4eBI8hC"
      }
    },
    {
      "cell_type": "code",
      "source": [
        "from datetime import date #Serve para impotar data (Nesse caso do ano atual)\n",
        "\n",
        "ano = int(input(\"Digite um ano? Ou coloque 0 para analisar o ano atual \"))\n",
        "\n",
        "if ano == 0: #Condicional simples\n",
        "  ano = date.today().year #Aqui nessa função ele pega a data de hoje e o ano atual\n",
        "\n",
        "cond = 'é bissexto' if ano % 4 == 0 and ano % 100 != 0 or ano % 400 == 0  else 'não é bissexto' #condic. simplificada\n",
        "\n",
        "print(\"O ano de {} {} \".format(ano, cond))"
      ],
      "metadata": {
        "id": "YuiBY0hQJSnw",
        "colab": {
          "base_uri": "https://localhost:8080/"
        },
        "outputId": "75ddbe27-1e76-44db-ab69-1ab8cb52f6d6"
      },
      "execution_count": null,
      "outputs": [
        {
          "output_type": "stream",
          "name": "stdout",
          "text": [
            "Digite um ano? Ou coloque 0 para analisar o ano atual 0\n",
            "O ano de 2025 não é bissexto \n"
          ]
        }
      ]
    },
    {
      "cell_type": "markdown",
      "source": [
        "# **Ex.28 - Faça um programa que leia 3 números que diga qual é o maior e o menor valor.**"
      ],
      "metadata": {
        "id": "sdtz9y-sJVOq"
      }
    },
    {
      "cell_type": "code",
      "source": [
        "a = int(input(\"Digite o primeiro número: \"))\n",
        "b = int(input(\"Digite o segundo número: \"))\n",
        "c = int(input(\"Digite o terceiro número: \"))\n",
        "#Verificando quem é o menor\n",
        "menor = a\n",
        "if b < a and b < c:\n",
        "  menor = b\n",
        "elif c < a and c < b:\n",
        "  menor = c\n",
        "#Verificando quem é o maior\n",
        "maior = a\n",
        "if b > a and b > c:\n",
        "  maior = b\n",
        "elif c > a and c > b:\n",
        "  maior = c\n",
        "print(\"O menor número é {}\".format(menor))\n",
        "print(\"O maior número é {}\".format(maior))\n",
        "\n",
        "\n"
      ],
      "metadata": {
        "id": "sTh1X0xXJ1Ow",
        "colab": {
          "base_uri": "https://localhost:8080/"
        },
        "outputId": "b8ad622d-add9-4bdd-a90b-6e4bb3a90325"
      },
      "execution_count": null,
      "outputs": [
        {
          "output_type": "stream",
          "name": "stdout",
          "text": [
            "Digite o primeiro número: 8\n",
            "Digite o segundo número: 5\n",
            "Digite o terceiro número: 3\n",
            "O menor número é 3\n",
            "O maior número é 8\n"
          ]
        }
      ]
    },
    {
      "cell_type": "markdown",
      "source": [
        "# ***Ex.29 - Escreva um programa que pergunte o salario de um funcionario e calcule o valor de seu aumento.***\n",
        "\n",
        "# ***- Para salarios superiores a 1250, calcule um aumento de 10%***\n",
        "# ***- Para os inferiores ou iguais, o aumento é de 15%***"
      ],
      "metadata": {
        "id": "UV2_V975KWbk"
      }
    },
    {
      "cell_type": "code",
      "source": [
        "s = float(input(\"Qual é seu salario: \"))\n",
        "if s > 1250:\n",
        "  print(\"Seu aumento de 10% foi R${:.2f}\".format(s + (s * 10/100)))\n",
        "else:\n",
        "  print('Seu aumento de 15% foi R${:.2f}'.format(s + (s * 15/100)))"
      ],
      "metadata": {
        "id": "d7q5xJNnLCaI",
        "colab": {
          "base_uri": "https://localhost:8080/"
        },
        "outputId": "87346f4d-b8c7-4b33-c0c3-5f51d24401b3"
      },
      "execution_count": null,
      "outputs": [
        {
          "output_type": "stream",
          "name": "stdout",
          "text": [
            "Qual é seu salario: 5000\n",
            "Seu aumento de 10% foi R$5500.00\n"
          ]
        }
      ]
    },
    {
      "cell_type": "markdown",
      "source": [
        "# ***Ex.30 - Desenvolva um programa que leia o comprimento de 3 retas e diga ao usuario se elas podem ou não formar um triângulo.***"
      ],
      "metadata": {
        "id": "YGzVR8hkLHcx"
      }
    },
    {
      "cell_type": "code",
      "source": [
        "print(\"-=\"*20)\n",
        "print(\"Analisador de triangulo\")\n",
        "print(\"-=\"*20)\n",
        "r1 = float(input(\"Digite a primeira reta: \"))\n",
        "r2 = float(input(\"Digite a segunda reta: \"))\n",
        "r3 = float(input(\"Digite a terceira reta: \"))\n",
        "if r1 < r2 + r3 and r2 < r1 + r3 and r3 < r1 + r2: #Formula para vê se forma triangulo ou não\n",
        "  print(\"Os segmentos acima PODEM formar um triangulo\")\n",
        "else:\n",
        "  print(\"Os segmentos acima NÂO PODEM formar um triangulo\")\n",
        "\n",
        "#FIM DO MUNDO 1 DE PYTHON!!"
      ],
      "metadata": {
        "colab": {
          "base_uri": "https://localhost:8080/"
        },
        "id": "b0jsZ8I2I2yh",
        "outputId": "94f7d427-1aa0-4877-9e91-031a48aed6e1"
      },
      "execution_count": 4,
      "outputs": [
        {
          "output_type": "stream",
          "name": "stdout",
          "text": [
            "-=-=-=-=-=-=-=-=-=-=-=-=-=-=-=-=-=-=-=-=\n",
            "Analisador de triangulo\n",
            "-=-=-=-=-=-=-=-=-=-=-=-=-=-=-=-=-=-=-=-=\n",
            "Digite a primeira reta: 2.5\n",
            "Digite a segunda reta: 3.4\n",
            "Digite a terceira reta: 9\n",
            "Os segmentos acima NÂO PODEM formar um triangulo\n"
          ]
        }
      ]
    }
  ]
}